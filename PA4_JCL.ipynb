{
 "cells": [
  {
   "cell_type": "markdown",
   "id": "d2a00027-fa6f-4f48-91da-b710b51105f4",
   "metadata": {},
   "source": [
    "# Programming Assignment 4\n",
    "---\n",
    "**Author:** John Little  \n",
    "**Version:** 1.0  \n",
    "**Semester:** Spring 2024 "
   ]
  },
  {
   "cell_type": "markdown",
   "id": "2d5b1e05-9219-4732-a0fa-cfe80d5ca152",
   "metadata": {},
   "source": [
    "### Problem 1 - Swapping List Elements "
   ]
  },
  {
   "cell_type": "code",
   "execution_count": 106,
   "id": "79a68af1-ed66-4c7a-ad44-668ca83b8091",
   "metadata": {},
   "outputs": [
    {
     "name": "stdout",
     "output_type": "stream",
     "text": [
      "Here is the original random list: [13, 32, 60, 22, 16, 89, 90, 49, 20, 82]\n",
      "Here is the new list: [82, 32, 60, 22, 16, 89, 90, 49, 20, 13]\n"
     ]
    }
   ],
   "source": [
    "## import libraries\n",
    "import random\n",
    "\n",
    "## create random numbers\n",
    "numbers = []\n",
    "for i in range(10):\n",
    "    numbers.append(random.randint(1,100))\n",
    "\n",
    "## define function\n",
    "def swap_first_last(numbers):\n",
    "    numbers2 = numbers.copy()\n",
    "    numbers2[0], numbers2[-1] = numbers2[-1], numbers2[0]\n",
    "    return numbers2\n",
    "\n",
    "## apply function to random numbers\n",
    "numbers2 = swap_first_last(numbers)\n",
    "\n",
    "## print \n",
    "print(f\"Here is the original random list: {numbers}\")\n",
    "print(f\"Here is the new list: {numbers2}\")\n",
    "\n"
   ]
  },
  {
   "cell_type": "markdown",
   "id": "4eb58156-3d36-4e17-8235-986beb472499",
   "metadata": {},
   "source": [
    "### Problem 2 - Encoding Data "
   ]
  },
  {
   "cell_type": "code",
   "execution_count": 110,
   "id": "61f79d92-ed27-48a5-8446-29b4e162c482",
   "metadata": {},
   "outputs": [
    {
     "name": "stdout",
     "output_type": "stream",
     "text": [
      "original list: [100, 89, 77, 8, 22, 64, 39, 27, 66, 69]\n",
      "new list: [1, -1, -1, 1, 1, 1, -1, -1, 1, -1]\n"
     ]
    }
   ],
   "source": [
    "## import libraries \n",
    "import random\n",
    "\n",
    "## create random numbers (original list)\n",
    "numbers = []\n",
    "for i in range(10):\n",
    "    numbers.append(random.randint(1,100))\n",
    "\n",
    "## make new list and put numbers in '-1,1' format\n",
    "def encode(numbers):\n",
    "    numbers2 = []\n",
    "    for number in numbers:\n",
    "        if number%2 == 0:\n",
    "            number = 1\n",
    "            numbers2.append(number)\n",
    "        else:\n",
    "            number = -1\n",
    "            numbers2.append(number)\n",
    "    return numbers2\n",
    "\n",
    "## apply function\n",
    "numbers2 = encode(numbers)\n",
    "\n",
    "\n",
    "## print\n",
    "print(f\"original list: {numbers}\")\n",
    "print(f\"new list: {numbers2}\")"
   ]
  },
  {
   "cell_type": "markdown",
   "id": "0aab0f22-2211-4583-a615-8865a47f3a5a",
   "metadata": {},
   "source": [
    "### Problem 3 - Rotating Topics"
   ]
  },
  {
   "cell_type": "code",
   "execution_count": 112,
   "id": "7a34f289-fb66-464b-a55c-6c9ce197ce2c",
   "metadata": {},
   "outputs": [
    {
     "name": "stdout",
     "output_type": "stream",
     "text": [
      "original tuple: (1, 2, 3)\n",
      "rotated tuple: (3, 1, 2)\n",
      "unpacked and rotated tuple: 3, 1, 2\n"
     ]
    }
   ],
   "source": [
    "## create tuple\n",
    "atuple = (1,2,3)\n",
    "\n",
    "## rotate within function \n",
    "def rotate(atuple):\n",
    "    a, b, c = atuple\n",
    "    rotated_tuple = (c, a, b)\n",
    "    return rotated_tuple, a, b, c\n",
    "\n",
    "## apply function\n",
    "rotated_tuple, a, b, c = rotate(atuple)\n",
    "\n",
    "## print\n",
    "print(f\"original tuple: {atuple}\")\n",
    "print(f\"rotated tuple: {rotated_tuple}\")\n",
    "print(f\"unpacked and rotated tuple: {c}, {a}, {b}\")\n"
   ]
  },
  {
   "cell_type": "markdown",
   "id": "3bdd99a1-0ff4-4622-aaf2-eab9de7f6769",
   "metadata": {},
   "source": [
    "### Problem 4 - Creating a List of Tuples "
   ]
  },
  {
   "cell_type": "code",
   "execution_count": 114,
   "id": "483a53c9-6c4f-4664-9271-231efa01b920",
   "metadata": {},
   "outputs": [
    {
     "name": "stdout",
     "output_type": "stream",
     "text": [
      "('William', 'McKinley', 25)\n",
      "('Teddy', 'Roosevelt', 26)\n",
      "('William', 'Taft', 27)\n",
      "('Woodrow', 'Wilson', 28)\n",
      "('Warren', 'Harding', 29)\n",
      "('Calvin', 'Coolidge', 30)\n",
      "('Herbert', 'Hoover', 31)\n",
      "('Franklin', 'Roosevelt', 32)\n",
      "('Harry', 'Truman', 33)\n",
      "('Dwight', 'Eisenhower', 34)\n",
      "('John', 'Kennedy', 35)\n",
      "('Lyndon', 'Johnson', 36)\n",
      "('Richard', 'Nixon', 37)\n",
      "('Gerald', 'Ford', 38)\n",
      "('Jimmy', 'Carter', 39)\n",
      "('Ronald', 'Reagan', 40)\n",
      "('George', 'Bush', 41)\n",
      "('William', 'Clinton', 42)\n"
     ]
    }
   ],
   "source": [
    "## create lists \n",
    "first_name = ['William', 'Teddy', 'William', 'Woodrow', 'Warren', 'Calvin', 'Herbert', 'Franklin', 'Harry', 'Dwight', 'John', 'Lyndon', 'Richard', 'Gerald', 'Jimmy', 'Ronald', 'George', 'William']\n",
    "last_name = ['McKinley', 'Roosevelt', 'Taft', 'Wilson', 'Harding', 'Coolidge', 'Hoover', 'Roosevelt', 'Truman', 'Eisenhower', 'Kennedy', 'Johnson', 'Nixon', 'Ford', 'Carter', 'Reagan', 'Bush', 'Clinton'] \n",
    "number = list(range(25, 43))\n",
    "\n",
    "## define function to combine lists \n",
    "def combine_lists(first_name, last_name, number):\n",
    "    combined_tuples = list(zip(first_name, last_name, number))\n",
    "    return combined_tuples \n",
    "\n",
    "## apply function\n",
    "combined_tuples = combine_lists(first_name, last_name, number)\n",
    "\n",
    "## print each combined tuple on a different line\n",
    "for tuple in combined_tuples:\n",
    "    print(tuple)\n",
    "\n"
   ]
  },
  {
   "cell_type": "markdown",
   "id": "1e6c5ed6-dea0-41c3-874a-3bc30eed2678",
   "metadata": {},
   "source": [
    "### Problem 5 - Finding Perfect Numbers "
   ]
  },
  {
   "cell_type": "code",
   "execution_count": 116,
   "id": "54bf4f74-4e18-487f-8e0b-c27e7c2df9aa",
   "metadata": {},
   "outputs": [
    {
     "name": "stdout",
     "output_type": "stream",
     "text": [
      "The perfect numbers between 1 and 100 are [6, 28]\n"
     ]
    }
   ],
   "source": [
    "## create numbers list \n",
    "numbers = list(range(1, 101))\n",
    "\n",
    "## create function to return true for perfect numbers \n",
    "def perfect_number(n):\n",
    "    sum_divisors = 0\n",
    "    for i in range(1, n // 2 + 1):  \n",
    "        if n % i == 0:\n",
    "            sum_divisors += i\n",
    "    if sum_divisors == n:\n",
    "        return True\n",
    "    else:\n",
    "        return False\n",
    "\n",
    "##apply function\n",
    "perfect_numbers = [n for n in numbers if perfect_number(n)]\n",
    "\n",
    "## print\n",
    "print(f\"The perfect numbers between 1 and 100 are {perfect_numbers}\")"
   ]
  },
  {
   "cell_type": "code",
   "execution_count": null,
   "id": "6d055cc5-7245-479a-ae96-e2b0e50690d9",
   "metadata": {},
   "outputs": [],
   "source": []
  }
 ],
 "metadata": {
  "kernelspec": {
   "display_name": "anaconda-panel-2023.05-py310",
   "language": "python",
   "name": "conda-env-anaconda-panel-2023.05-py310-py"
  },
  "language_info": {
   "codemirror_mode": {
    "name": "ipython",
    "version": 3
   },
   "file_extension": ".py",
   "mimetype": "text/x-python",
   "name": "python",
   "nbconvert_exporter": "python",
   "pygments_lexer": "ipython3",
   "version": "3.11.5"
  }
 },
 "nbformat": 4,
 "nbformat_minor": 5
}
